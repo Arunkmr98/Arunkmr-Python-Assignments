{
 "cells": [
  {
   "cell_type": "code",
   "execution_count": 22,
   "metadata": {},
   "outputs": [
    {
     "name": "stdout",
     "output_type": "stream",
     "text": [
      "Enter any Number to calculate it's factorial:12\n",
      "Factorial is: 479001600\n"
     ]
    }
   ],
   "source": [
    "#Assignment 05| Task:01\n",
    "def calc_factorial(value):\n",
    "    fact=1\n",
    "    if value<0:\n",
    "        print(\"Enter +ve Integer\")\n",
    "        \n",
    "    elif value==0 or value==1:\n",
    "        fact=1\n",
    "        return fact\n",
    "    elif value>1:\n",
    "        for n in range (1, value):\n",
    "            fact=fact+(fact*n)\n",
    "    \n",
    "    return fact\n",
    "            \n",
    "\n",
    "value=int(input(\"Enter any Number to calculate it's factorial:\"))    \n",
    "print(\"Factorial is:\",calc_factorial(value))             "
   ]
  },
  {
   "cell_type": "code",
   "execution_count": 52,
   "metadata": {},
   "outputs": [
    {
     "name": "stdout",
     "output_type": "stream",
     "text": [
      "Enter Any String:Arun Kumar Valecha\n",
      "Upper Case Letters: 3 \t Lower Case Letters: 13\n"
     ]
    }
   ],
   "source": [
    "#Assignment 05| Task:02\n",
    "\n",
    "\n",
    "\n",
    "def upper_lower_case(mystring):\n",
    "    count_upper=0\n",
    "    count_lower=0\n",
    "    \n",
    "    for i in range(0,len(mystring)):\n",
    "        if mystring[i].isupper() or mystring[i].islower():\n",
    "            \n",
    "            if mystring[i]==\" \":\n",
    "                i=i+1\n",
    "            else:\n",
    "                if mystring[i].isupper():\n",
    "                    count_upper=count_upper+1\n",
    "                else:\n",
    "                    count_lower=count_lower+1\n",
    "\n",
    "    print(\"Upper Case Letters:\",count_upper,\"\\t\",\"Lower Case Letters:\",count_lower)\n",
    "  \n",
    "         \n",
    "\n",
    "mystr=input(\"Enter Any String:\")            \n",
    "upper_lower_case(mystr)   \n",
    "       \n",
    "    \n"
   ]
  },
  {
   "cell_type": "code",
   "execution_count": 57,
   "metadata": {},
   "outputs": [
    {
     "name": "stdout",
     "output_type": "stream",
     "text": [
      "Even Numbers in List:\n",
      "2\n",
      "4\n",
      "6\n",
      "8\n",
      "12\n",
      "16\n",
      "20\n",
      "100\n",
      "88\n"
     ]
    }
   ],
   "source": [
    "#Assignment 05| Task:03\n",
    "\n",
    "def Print_Even(evenList):\n",
    "    for i in range(0,len(evenList)):\n",
    "        if evenList[i]%2==0:\n",
    "            print(evenList[i])\n",
    "    \n",
    "\n",
    "    \n",
    "mylist=[1,2,3,4,5,6,8,19,12,16,20,100,88]\n",
    "print(\"Even Numbers in List:\")\n",
    "Print_Even(mylist)\n"
   ]
  },
  {
   "cell_type": "code",
   "execution_count": 78,
   "metadata": {},
   "outputs": [
    {
     "name": "stdout",
     "output_type": "stream",
     "text": [
      "Enter Any String to check if palindrom:racecar\n",
      "String:racecar is Palindrom\n"
     ]
    }
   ],
   "source": [
    "#Assignment 05| Task:04\n",
    "\n",
    "def isPalindrome(mystr):\n",
    "    tempStr=\"\"\n",
    "    match=False\n",
    "    for i in reversed(range(len(mystr))):\n",
    "        tempStr=tempStr+mystr[i]\n",
    "    #tempStr\n",
    "    for val in range(0,len(mystr)):\n",
    "        if tempStr[val]==mystr[val]:\n",
    "            match=True\n",
    "        else:\n",
    "            match=False\n",
    "    \n",
    "    if match==True:\n",
    "        print(\"String:\"+mystr+\" is Palindrom\")\n",
    "    else:\n",
    "        print(\"String:\"+mystr+\" is not palindrom\")\n",
    "        \n",
    "    \n",
    "        \n",
    "myStr=input(\"Enter Any String to check if palindrom:\")\n",
    "    \n",
    "isPalindrome(myStr.lower())\n",
    "\n"
   ]
  },
  {
   "cell_type": "code",
   "execution_count": 84,
   "metadata": {},
   "outputs": [
    {
     "name": "stdout",
     "output_type": "stream",
     "text": [
      "Enter Any Number2\n",
      "2 is prime\n"
     ]
    }
   ],
   "source": [
    "#Assignment 05| Task:05\n",
    "\n",
    "\n",
    "def isPrime(n):\n",
    "    if (n==1):\n",
    "        return False\n",
    "    elif (n==2):\n",
    "        return True;\n",
    "    else:\n",
    "        for x in range(2,n):\n",
    "            if(n % x==0):\n",
    "                return False\n",
    "        return True             \n",
    "\n",
    "    \n",
    "num=int(input(\"Enter Any Number:\"))\n",
    "\n",
    "\n",
    "if isPrime(num)==True:\n",
    "    print(str(num)+\" is prime\")\n",
    "else:\n",
    "    print(str(num)+\"is not Prime\")\n",
    "    \n",
    "    "
   ]
  },
  {
   "cell_type": "code",
   "execution_count": 89,
   "metadata": {},
   "outputs": [
    {
     "name": "stdout",
     "output_type": "stream",
     "text": [
      "List Items:\n",
      "Shirts\n",
      "Paints\n",
      "Trousers\n",
      "Cap\n",
      "t-shirt\n"
     ]
    }
   ],
   "source": [
    "#Assignment 05-|-Task:06\n",
    "\n",
    "def ShoppingList(*items):\n",
    "    \n",
    "    for item in items:\n",
    "        print(item)\n",
    "\n",
    "print(\"List Items:\")        \n",
    "ShoppingList(\"Shirts\",\"Paints\",\"Trousers\",\"Cap\",\"t-shirt\")        "
   ]
  },
  {
   "cell_type": "code",
   "execution_count": null,
   "metadata": {},
   "outputs": [],
   "source": []
  }
 ],
 "metadata": {
  "kernelspec": {
   "display_name": "Python 3",
   "language": "python",
   "name": "python3"
  },
  "language_info": {
   "codemirror_mode": {
    "name": "ipython",
    "version": 3
   },
   "file_extension": ".py",
   "mimetype": "text/x-python",
   "name": "python",
   "nbconvert_exporter": "python",
   "pygments_lexer": "ipython3",
   "version": "3.7.1"
  }
 },
 "nbformat": 4,
 "nbformat_minor": 2
}
