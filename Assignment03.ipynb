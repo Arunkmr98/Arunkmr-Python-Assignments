{
 "cells": [
  {
   "cell_type": "code",
   "execution_count": 1,
   "metadata": {},
   "outputs": [
    {
     "name": "stdout",
     "output_type": "stream",
     "text": [
      "------------------CALCULATOR-----------------\n",
      "Select Any Operation\n",
      " 1:Addition\n",
      " 2:Multiplication\n",
      " 3:Division\n",
      " 4:power\n",
      "2\n",
      "Enter Num1:2\n",
      "Enter Num2:6\n",
      "Product is: 12\n"
     ]
    }
   ],
   "source": [
    "# Assignment 03 | Task01: Make a calculator using Python with addition , subtraction , multiplication , division and power.\n",
    "\n",
    "print(\"------------------CALCULATOR-----------------\")\n",
    "option=input(\"Select Any Operation\\n 1:Addition\\n 2:Multiplication\\n 3:Division\\n 4:power\\n\")\n",
    "\n",
    "if option==\"1\":\n",
    "    num1=int(input(\"Enter Num1:\"))\n",
    "    num2=int(input(\"Enter Num2:\"))\n",
    "    print(\"Sum is:\",num1+num2)\n",
    "\n",
    "elif option==\"2\":\n",
    "    num1=int(input(\"Enter Num1:\"))\n",
    "    num2=int(input(\"Enter Num2:\"))\n",
    "    print(\"Product is:\",num1*num2)\n",
    "\n",
    "elif option==\"3\":\n",
    "    num1=int(input(\"Enter Num1:\"))\n",
    "    num2=int(input(\"Enter Num2:\"))\n",
    "    print(\"division is:\",num1/num2)\n",
    "\n",
    "elif option==\"4\":\n",
    "    base=int(input(\"Enter Base\"))\n",
    "    power=int(input(\"Enter Power\"))\n",
    "    print(\"Result:\",base**power)\n",
    "\n"
   ]
  },
  {
   "cell_type": "code",
   "execution_count": 3,
   "metadata": {},
   "outputs": [
    {
     "name": "stdout",
     "output_type": "stream",
     "text": [
      "1\n",
      "2\n",
      "3\n",
      "4\n"
     ]
    }
   ],
   "source": [
    "# Assignment 03 | Task02: \n",
    "\n",
    "mylist=['1','orange','2','3','4','apple']\n",
    "mynewlist = [s for s in mylist if s.isdigit()]\n",
    "\n",
    "for i in range(0,len(mynewlist)):\n",
    "    print(mynewlist[i])\n"
   ]
  },
  {
   "cell_type": "code",
   "execution_count": 4,
   "metadata": {},
   "outputs": [
    {
     "name": "stdout",
     "output_type": "stream",
     "text": [
      "Before Adding Key: {0: 25, 1: 28, 2: 100, 3: 500}\n",
      "After Adding key: {0: 25, 1: 28, 2: 100, 3: 500, 4: 30}\n"
     ]
    }
   ],
   "source": [
    "# Assignment 03 | Task03: \n",
    "dictionary = {0:25, 1:28, 2:100, 3:500}\n",
    "print(\"Before Adding Key:\",dictionary)\n",
    "dictionary.update({4:30})\n",
    "print(\"After Adding key:\",dictionary)"
   ]
  },
  {
   "cell_type": "code",
   "execution_count": 5,
   "metadata": {},
   "outputs": [
    {
     "name": "stdout",
     "output_type": "stream",
     "text": [
      "Sum of dictionary values is: 653\n"
     ]
    }
   ],
   "source": [
    "# Assignment 03 | Task04: \n",
    "dictionary = {0:25, 1:28, 2:100, 3:500}\n",
    "SumCount=0\n",
    "\n",
    "for i in range(0,len(dictionary)):\n",
    "    SumCount=SumCount+dictionary[i]\n",
    "    \n",
    "print(\"Sum of dictionary values is:\",SumCount)\n"
   ]
  },
  {
   "cell_type": "code",
   "execution_count": 6,
   "metadata": {},
   "outputs": [
    {
     "name": "stdout",
     "output_type": "stream",
     "text": [
      "Repeated values in list are: [2, 55]\n"
     ]
    }
   ],
   "source": [
    "\n",
    "# Assignment 03 | Task05: \n",
    "\n",
    "list1 = [10,8,7,5,3,2,1,44,2,55,55,88,22,55] \n",
    "size = len(list1) \n",
    "repeated = [] \n",
    "for i in range(size): \n",
    "        k = i + 1\n",
    "        for j in range(k,size): \n",
    "            if list1[i] == list1[j] and list1[i] not in repeated: \n",
    "                repeated.append(list1[i]) \n",
    "print(\"Repeated values in list are:\",repeated) \n",
    "  "
   ]
  },
  {
   "cell_type": "code",
   "execution_count": 8,
   "metadata": {},
   "outputs": [
    {
     "name": "stdout",
     "output_type": "stream",
     "text": [
      "Enter Any key Value to check:9\n",
      "Not Present\n"
     ]
    }
   ],
   "source": [
    "# Assignment 03 | Task06: \n",
    "\n",
    "dictionary = {0:25, 1:28, 2:100, 3:500}\n",
    "key=int(input(\"Enter Any key Value to check:\"))\n",
    "\n",
    "if key in dictionary:\n",
    "    print(\"This key is present in dictionary\")\n",
    "else:\n",
    "    print(\"Not Present\")\n",
    "\n"
   ]
  },
  {
   "cell_type": "code",
   "execution_count": null,
   "metadata": {},
   "outputs": [],
   "source": []
  }
 ],
 "metadata": {
  "kernelspec": {
   "display_name": "Python 3",
   "language": "python",
   "name": "python3"
  },
  "language_info": {
   "codemirror_mode": {
    "name": "ipython",
    "version": 3
   },
   "file_extension": ".py",
   "mimetype": "text/x-python",
   "name": "python",
   "nbconvert_exporter": "python",
   "pygments_lexer": "ipython3",
   "version": "3.7.1"
  }
 },
 "nbformat": 4,
 "nbformat_minor": 2
}
