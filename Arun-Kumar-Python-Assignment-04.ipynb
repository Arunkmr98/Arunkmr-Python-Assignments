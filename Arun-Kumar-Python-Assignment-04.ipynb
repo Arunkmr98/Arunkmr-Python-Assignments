{
 "cells": [
  {
   "cell_type": "code",
   "execution_count": 11,
   "metadata": {},
   "outputs": [
    {
     "name": "stdout",
     "output_type": "stream",
     "text": [
      "------Enter Person info to store in dictionary------\n",
      "Enter First Name:Talha\n",
      "Enter Last Name:Awan\n",
      "Enter Age22\n",
      "Enter city:Karachi\n",
      "----Person information-----\n",
      "Talha\n",
      "Awan\n",
      "22\n",
      "Karachi\n",
      "Enter Person Qualification:BSCS\n",
      "----Print after adding Qualification Key Value pair-----\n",
      "Talha\n",
      "Awan\n",
      "22\n",
      "Karachi\n",
      "BSCS\n",
      "Before updating Qualification:\n",
      " {'first_name': 'Talha', 'last_name': 'Awan', 'age': '22', 'city': 'Karachi', 'qualification': 'BSCS'}\n",
      "after updating Qualification:\n",
      " {'first_name': 'Talha', 'last_name': 'Awan', 'age': '22', 'city': 'Karachi', 'qualification': 'Masters'}\n",
      "After Deleting key Value of Qualification\n",
      "{'first_name': 'Talha', 'last_name': 'Awan', 'age': '22', 'city': 'Karachi'}\n"
     ]
    }
   ],
   "source": [
    "# Python-Assignment:04 | task:01\n",
    "\n",
    "print(\"------Enter Person info to store in dictionary------\")\n",
    "\n",
    "fname=input(\"Enter First Name:\")\n",
    "lname=input(\"Enter Last Name:\")\n",
    "age=input(\"Enter Age\")\n",
    "city=input(\"Enter city:\")\n",
    "\n",
    "info_dict={\"first_name\":fname,\"last_name\":lname,\"age\":age,\"city\":city}\n",
    "\n",
    "print(\"----Person information-----\")\n",
    "for i in info_dict:\n",
    "    print(info_dict[i])\n",
    "\n",
    "    \n",
    "#adding key value pair in info_dic\n",
    "\n",
    "info_dict[\"qualification\"]=input(\"Enter Person Qualification:\")\n",
    "\n",
    "\n",
    "print(\"----Print after adding Qualification Key Value pair-----\")\n",
    "for i in info_dict:\n",
    "    print(info_dict[i])\n",
    "    \n",
    "print(\"Before updating Qualification:\\n\",info_dict)\n",
    "\n",
    "x={\"qualification\":\"Masters\"}\n",
    "info_dict.update(x)\n",
    "\n",
    "\n",
    "print(\"after updating Qualification:\\n\",info_dict)\n",
    "\n",
    "\n",
    "print(\"After Deleting key Value of Qualification\")\n",
    "\n",
    "del info_dict[\"qualification\"]\n",
    "print(info_dict)"
   ]
  },
  {
   "cell_type": "code",
   "execution_count": 10,
   "metadata": {},
   "outputs": [
    {
     "name": "stdout",
     "output_type": "stream",
     "text": [
      "\n",
      "Karachi is in Pakistan.\n",
      "  It has a population of about 18891076.\n",
      "it is\t1St\tLargest city of pakistan\n",
      "\n",
      "Lahore is in Pakistan.\n",
      "  It has a population of about 11126285.\n",
      "it is\t2Nd\tLargest city of pakistan\n",
      "\n",
      "Islamabad is in Pakistan.\n",
      "  It has a population of about 1009832.\n",
      "it is\t9Th\tLargest city of pakistan\n"
     ]
    }
   ],
   "source": [
    "# Python-Assignment:04 | task:02\n",
    "\n",
    "cities = {\n",
    "    'KARACHI': {\n",
    "        'country': 'PAKISTAN',\n",
    "        'population': 18891076,\n",
    "        'Rank': '1st',\n",
    "        \n",
    "    },\n",
    "    'LAHORE': {\n",
    "        'country': 'PAKISTAN',\n",
    "        'population':11126285,\n",
    "        'Rank': '2nd',\n",
    "        },\n",
    "    'ISLAMABAD': {\n",
    "        'country': 'PAKISTAN',\n",
    "        'population': 1009832,\n",
    "        'Rank': '9th',\n",
    "        }\n",
    "    }\n",
    "\n",
    "for city, city_info in cities.items():\n",
    "    country = city_info['country'].title()\n",
    "    population = city_info['population']\n",
    "    rank = city_info['Rank'].title()\n",
    "\n",
    "    print(\"\\n\" + city.title() + \" is in \" + country + \".\")\n",
    "    print(\"  It has a population of about \" + str(population) + \".\")\n",
    "    print(\"it is\\t\"+rank+\"\\tLargest city of pakistan\")\n",
    "\n"
   ]
  },
  {
   "cell_type": "code",
   "execution_count": 9,
   "metadata": {},
   "outputs": [
    {
     "name": "stdout",
     "output_type": "stream",
     "text": [
      "How Many tickets do u want:5\n",
      "Enter age of Persons12\n",
      "  Your ticket is of $10 only\n",
      "Enter age of Persons10\n",
      "  Your ticket is of $10 only\n",
      "Enter age of Persons28\n",
      "  Your ticket is of $15 only\n",
      "Enter age of Persons13\n",
      "  Your ticket is of $15 only\n",
      "Enter age of Persons6\n",
      "  Your ticket is of $10 only\n"
     ]
    }
   ],
   "source": [
    "# Python-Assignment:04 | task:03\n",
    "\n",
    "tickets=int(input(\"How Many tickets do u want:\"))\n",
    "\n",
    "\n",
    "while tickets:\n",
    "    age = int(input(\"Enter age of Persons\"))    \n",
    "    tickets=tickets-1\n",
    "    \n",
    "    if age < 3:\n",
    "        print(\"you got a free ticket ^_^\")\n",
    "    elif age < 13:\n",
    "        print(\"  Your ticket is of $10 only\")\n",
    "    else:\n",
    "        print(\"  Your ticket is of $15 only\")\n",
    "    "
   ]
  },
  {
   "cell_type": "code",
   "execution_count": 8,
   "metadata": {},
   "outputs": [
    {
     "name": "stdout",
     "output_type": "stream",
     "text": [
      "Enter Any Book That you like?Milk & Honey\n",
      "One of my favorite books is Milk & Honey\n"
     ]
    }
   ],
   "source": [
    "# Python-Assignment:04 | task:04\n",
    "\n",
    "\n",
    "def favorite_book(book_title):\n",
    "    print( \"One of my favorite books is \"+book_title)\n",
    "\n",
    "\n",
    "book_title=input(\"Enter Any Book That you like?\")\n",
    "favorite_book(book_title)\n",
    "\n",
    "\n",
    "\n",
    "\n"
   ]
  },
  {
   "cell_type": "code",
   "execution_count": 7,
   "metadata": {},
   "outputs": [
    {
     "name": "stdout",
     "output_type": "stream",
     "text": [
      "22\n",
      "Guess The Hidden Number:25\n",
      "you have 3 chances to guess the correct number, Good Luck!\n",
      "Guess The Hidden Number:26\n",
      "Wrong Number! Hint: The Hidden number is smaller than the number you entered... ^_^\n",
      "Guess The Hidden Number:21\n",
      "Wrong Number! Hint: The Hidden number is Greater than the number you entered... ^_^\n",
      "Guess The Hidden Number:28\n",
      "Wrong Number! Hint: The Hidden number is smaller than the number you entered... ^_^\n",
      "No More Chances! try Next Time\n"
     ]
    }
   ],
   "source": [
    "# Python-Assignment:04 | task:05\n",
    "import random\n",
    "randomNum=[1,2,3,4,5,6,7,8,9,10,11,12,13,14,15,16,17,18,19,20,21,22,23,24,25,26,27,28,29,30]\n",
    "\n",
    "randomValue=random.choice(randomNum)\n",
    "chance=0\n",
    "print(randomValue)\n",
    "\n",
    "Guess_num=int(input(\"Guess The Hidden Number:\"))\n",
    "winStatus=False\n",
    "if randomValue==Guess_num:\n",
    "    print(\"WoW! you won\")\n",
    "\n",
    "else:\n",
    "    print(\"you have 3 chances to guess the correct number, Good Luck!\")\n",
    "    while chance<=3:\n",
    "        \n",
    "        Guess_num=int(input(\"Guess The Hidden Number:\"))\n",
    "        \n",
    "        if Guess_num==randomValue:\n",
    "            print(\"Excellent! The number is correct\")\n",
    "            winStatus=True\n",
    "            chance=chance+1\n",
    "            \n",
    "            if chance==3 or winStatus==True:\n",
    "                    break\n",
    "            \n",
    "        \n",
    "        elif Guess_num>randomValue:\n",
    "            print(\"Wrong Number! Hint: The Hidden number is smaller than the number you entered... ^_^\")\n",
    "            chance=chance+1\n",
    "            if chance==3:\n",
    "                print(\"No More Chances! try Next Time\")\n",
    "                break\n",
    "                \n",
    "        \n",
    "        elif Guess_num<randomValue:\n",
    "            print(\"Wrong Number! Hint: The Hidden number is Greater than the number you entered... ^_^\")\n",
    "            chance=chance+1\n",
    "            if chance==3:\n",
    "                print(\"No More Chances! try Next Time\")\n",
    "                break\n",
    "        \n",
    "        \n",
    "    \n",
    "            "
   ]
  },
  {
   "cell_type": "code",
   "execution_count": null,
   "metadata": {},
   "outputs": [],
   "source": []
  },
  {
   "cell_type": "code",
   "execution_count": null,
   "metadata": {},
   "outputs": [],
   "source": []
  }
 ],
 "metadata": {
  "kernelspec": {
   "display_name": "Python 3",
   "language": "python",
   "name": "python3"
  },
  "language_info": {
   "codemirror_mode": {
    "name": "ipython",
    "version": 3
   },
   "file_extension": ".py",
   "mimetype": "text/x-python",
   "name": "python",
   "nbconvert_exporter": "python",
   "pygments_lexer": "ipython3",
   "version": "3.7.1"
  }
 },
 "nbformat": 4,
 "nbformat_minor": 2
}
