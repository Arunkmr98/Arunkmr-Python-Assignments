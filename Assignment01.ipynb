{
 "cells": [
  {
   "cell_type": "code",
   "execution_count": 31,
   "metadata": {},
   "outputs": [
    {
     "name": "stdout",
     "output_type": "stream",
     "text": [
      "Twinkle, twinkle, little star,\n",
      "\tHow I wonder what you are!\n",
      "\t      Up above the world so high,\n",
      "\t      Like a diamond in the sky.\n",
      "Twinkle, twinkle, little star,\n",
      "\tHow I wonder what you are\n"
     ]
    }
   ],
   "source": [
    "# Arun Kumar Assignment 1 \n",
    "#Task1:Print the poem\n",
    "\n",
    "print(\"Twinkle, twinkle, little star,\")\n",
    "print(\"\\tHow I wonder what you are!\")\n",
    "print(\"\\t      Up above the world so high,\")\n",
    "print(\"\\t      Like a diamond in the sky.\")\n",
    "print(\"Twinkle, twinkle, little star,\")\n",
    "print(\"\\tHow I wonder what you are\")"
   ]
  },
  {
   "cell_type": "code",
   "execution_count": 27,
   "metadata": {},
   "outputs": [
    {
     "name": "stdout",
     "output_type": "stream",
     "text": [
      "3.7.1 (default, Dec 10 2018, 22:54:23) [MSC v.1915 64 bit (AMD64)]\n"
     ]
    }
   ],
   "source": [
    "#Arun Kumar asssignment1 \n",
    "#Task02: Write a Python program to get the Python version you are using\n",
    "\n",
    "import sys\n",
    "\n",
    "print(\"your current python version is:\",sys.version)\n",
    "\n"
   ]
  },
  {
   "cell_type": "code",
   "execution_count": 32,
   "metadata": {},
   "outputs": [
    {
     "name": "stdout",
     "output_type": "stream",
     "text": [
      "Current Date is: 2019-11-01\n",
      "Current Time is: 20:28:11\n"
     ]
    }
   ],
   "source": [
    "# Arun Kumar Asssignment 1\n",
    "#Task3: Display Current Date and time\n",
    "\n",
    "from datetime import date \n",
    "from datetime import datetime\n",
    "\n",
    "getdate = date.today()\n",
    "now = datetime.now()\n",
    "getTime = now.strftime(\"%H:%M:%S\")\n",
    "\n",
    "print(\"Current Date is:\",getdate)\n",
    "print(\"Current Time is:\",getTime)\n",
    "\n",
    "\n",
    "\n",
    "\n"
   ]
  },
  {
   "cell_type": "code",
   "execution_count": 33,
   "metadata": {},
   "outputs": [
    {
     "name": "stdout",
     "output_type": "stream",
     "text": [
      "Enter Radius of Circle:5\n",
      "Area of circle is: 78.57142857142857\n"
     ]
    }
   ],
   "source": [
    "#Arun Kumar asssignment1 \n",
    "#Task04: Calculate area of circle by taking radius as input.\n",
    "\n",
    "pie=22/7\n",
    "radius=float(input(\"Enter Radius of Circle:\"))\n",
    "Area=pie*((radius*radius))\n",
    "print(\"Area of circle is:\",Area)\n"
   ]
  },
  {
   "cell_type": "code",
   "execution_count": 26,
   "metadata": {},
   "outputs": [
    {
     "name": "stdout",
     "output_type": "stream",
     "text": [
      "Enter your First Name:Arun\n",
      "Enter your last Name:Kumar\n",
      "\n",
      "Before Reverse:\n",
      "Arun  Kumar\n",
      "\n",
      "\n",
      "After Reverse:\n",
      "nurA   ramuK\n"
     ]
    }
   ],
   "source": [
    "#Arun Kumar asssignment1 \n",
    "#Task05: Write a Python program which accepts the user's first and last name \n",
    "#and print them in reverse order with a space between them.\n",
    "\n",
    "firstName=input(\"Enter your First Name:\")\n",
    "lastName=input(\"Enter your last Name:\")\n",
    "\n",
    "\n",
    "print(\"\\nBefore Reverse:\")\n",
    "print(firstName,\"\",lastName)\n",
    "\n",
    "print(\"\\nAfter Reverse:\")\n",
    "print(firstName[::-1],\" \",lastName[::-1])"
   ]
  },
  {
   "cell_type": "code",
   "execution_count": 30,
   "metadata": {},
   "outputs": [
    {
     "name": "stdout",
     "output_type": "stream",
     "text": [
      "Enter Input1:2\n",
      "Enter Input2:2\n",
      "Addition is: 4\n"
     ]
    }
   ],
   "source": [
    "#Arun Kumar asssignment1 \n",
    "#Task06: Write a python program which takes two inputs from user and print them addition\n",
    "\n",
    "input1=int(input(\"Enter Input1:\"))\n",
    "input2=int(input(\"Enter Input2:\"))\n",
    "print(\"Addition is:\",input1+input2)\n",
    "\n",
    "\n"
   ]
  },
  {
   "cell_type": "code",
   "execution_count": null,
   "metadata": {},
   "outputs": [],
   "source": []
  },
  {
   "cell_type": "code",
   "execution_count": null,
   "metadata": {},
   "outputs": [],
   "source": []
  }
 ],
 "metadata": {
  "kernelspec": {
   "display_name": "Python 3",
   "language": "python",
   "name": "python3"
  },
  "language_info": {
   "codemirror_mode": {
    "name": "ipython",
    "version": 3
   },
   "file_extension": ".py",
   "mimetype": "text/x-python",
   "name": "python",
   "nbconvert_exporter": "python",
   "pygments_lexer": "ipython3",
   "version": "3.7.1"
  }
 },
 "nbformat": 4,
 "nbformat_minor": 2
}
