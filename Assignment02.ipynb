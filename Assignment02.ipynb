{
 "cells": [
  {
   "cell_type": "code",
   "execution_count": 1,
   "metadata": {},
   "outputs": [
    {
     "name": "stdout",
     "output_type": "stream",
     "text": [
      "-----------------Enter Marks For 5 Subjects out of 100------------------------\n",
      "English:80\n",
      "Maths:80\n",
      "Urdu:90\n",
      "Science:22\n",
      "Social Studies:25\n",
      "\n",
      "-----Marksheet-----\n",
      "Grade D   59 % obtained Marks: 297\n"
     ]
    }
   ],
   "source": [
    "# Assignment 02 | Task01: Write a program which takes 5 inputs from user for different subject’s\n",
    "#marks, total it and generate mark sheet using grades \n",
    "print(\"-----------------Enter Marks For 5 Subjects out of 100------------------------\")\n",
    "sub1=int(input(\"English:\"))\n",
    "sub2=int(input(\"Maths:\"))\n",
    "sub3=int(input(\"Urdu:\"))\n",
    "sub4=int(input(\"Science:\"))\n",
    "sub5=int(input(\"Social Studies:\"))\n",
    "obtained=sub1+sub2+sub3+sub4+sub5\n",
    "Grade=\"\"\n",
    "percent=int((obtained/5)*1)\n",
    "if percent>=90 and percent<=100:\n",
    "    Grade=\"A\"\n",
    "    \n",
    "elif percent>=80 and percent<=89:\n",
    "    Grade=\"B+\"\n",
    "    \n",
    "elif percent>=70 and percent<=87:\n",
    "    Grade=\"B\"\n",
    "    \n",
    "elif percent>=60 and percent<=69:\n",
    "    Grade=\"C\"\n",
    "\n",
    "elif percent>=50 and percent<=59:\n",
    "    Grade=\"D\"\n",
    "\n",
    "elif percent<50:\n",
    "    Grade=\"F\"\n",
    "\n",
    "    \n",
    "print(\"\\n-----Marksheet-----\")\n",
    "print(\"Grade\",Grade,\" \",percent,\"%\",\"obtained Marks:\",obtained)"
   ]
  },
  {
   "cell_type": "code",
   "execution_count": 2,
   "metadata": {},
   "outputs": [
    {
     "name": "stdout",
     "output_type": "stream",
     "text": [
      "Enter Any Integer to check if it is even/odd?3\n",
      "Number: 3 is odd\n"
     ]
    }
   ],
   "source": [
    "# Assignment 02 | Task02: Write a program which take input from user and identify that the given number is even or odd?\n",
    "\n",
    "num=int(input(\"Enter Any Integer to check if it is even/odd?\"))\n",
    "\n",
    "if num%2==0:\n",
    "    print(\"Number:\",num,\"is even\")\n",
    "else:\n",
    "    print(\"Number:\",num,\"is odd\")\n"
   ]
  },
  {
   "cell_type": "code",
   "execution_count": 3,
   "metadata": {},
   "outputs": [
    {
     "name": "stdout",
     "output_type": "stream",
     "text": [
      "Length of this list is: 6\n"
     ]
    }
   ],
   "source": [
    "# Assignment 02 | Task03: Write a program which print the length of the list?\n",
    "\n",
    "lis=[1,2,3,4,5,6]\n",
    "print(\"Length of this list is:\",len(lis))\n"
   ]
  },
  {
   "cell_type": "code",
   "execution_count": 4,
   "metadata": {},
   "outputs": [
    {
     "name": "stdout",
     "output_type": "stream",
     "text": [
      "Sum of list values using sum function is: 45\n",
      "Sum of list values using for loop is: 45\n"
     ]
    }
   ],
   "source": [
    "# Assignment 02 | Task04: Write a Python program to sum all the numeric items in a list?\n",
    "\n",
    "mylist=[1,2,3,4,5,6,7,8,9]\n",
    "count=0\n",
    "#we can do it by using sum function\n",
    "print(\"Sum of list values using sum function is:\",sum(mylist))\n",
    "\n",
    "#or another way is to use for loop for sum\n",
    "for i in range(0,len(mylist)):\n",
    "    count=count+mylist[i]\n",
    "\n",
    "print(\"Sum of list values using for loop is:\",count)"
   ]
  },
  {
   "cell_type": "code",
   "execution_count": 5,
   "metadata": {},
   "outputs": [
    {
     "name": "stdout",
     "output_type": "stream",
     "text": [
      "Max Value in this list is: 90\n"
     ]
    }
   ],
   "source": [
    "# Assignment 02 | Task05: Write a Python program to get the largest number from a numeric list.\n",
    "\n",
    "\n",
    "mylist=[22,55,66,1,88,90]\n",
    "print(\"Max Value in this list is:\",max(mylist))\n",
    "\n",
    "\n"
   ]
  },
  {
   "cell_type": "code",
   "execution_count": 6,
   "metadata": {},
   "outputs": [
    {
     "name": "stdout",
     "output_type": "stream",
     "text": [
      "Values that are less than 5\n",
      "Value 1 : 1\n",
      "Value 2 : 1\n",
      "Value 3 : 2\n",
      "Value 4 : 3\n"
     ]
    }
   ],
   "source": [
    "# Assignment 02 | Task06: write a program that prints out all the elements of the list that are less than 5\n",
    "\n",
    "a = [1, 1, 2, 3, 5, 8, 13, 21, 34, 55]\n",
    "print(\"Values that are less than 5\")\n",
    "\n",
    "for i in range(0,len(a)):\n",
    "    if a[i]<5:\n",
    "        print(\"Value\",i+1,\":\",a[i])\n"
   ]
  },
  {
   "cell_type": "code",
   "execution_count": null,
   "metadata": {},
   "outputs": [],
   "source": [
    "\n",
    "\n",
    "\n"
   ]
  },
  {
   "cell_type": "code",
   "execution_count": null,
   "metadata": {},
   "outputs": [],
   "source": []
  },
  {
   "cell_type": "code",
   "execution_count": null,
   "metadata": {},
   "outputs": [],
   "source": []
  },
  {
   "cell_type": "code",
   "execution_count": null,
   "metadata": {},
   "outputs": [],
   "source": []
  },
  {
   "cell_type": "code",
   "execution_count": null,
   "metadata": {},
   "outputs": [],
   "source": []
  },
  {
   "cell_type": "code",
   "execution_count": null,
   "metadata": {},
   "outputs": [],
   "source": []
  },
  {
   "cell_type": "code",
   "execution_count": null,
   "metadata": {},
   "outputs": [],
   "source": []
  },
  {
   "cell_type": "code",
   "execution_count": null,
   "metadata": {},
   "outputs": [],
   "source": []
  }
 ],
 "metadata": {
  "kernelspec": {
   "display_name": "Python 3",
   "language": "python",
   "name": "python3"
  },
  "language_info": {
   "codemirror_mode": {
    "name": "ipython",
    "version": 3
   },
   "file_extension": ".py",
   "mimetype": "text/x-python",
   "name": "python",
   "nbconvert_exporter": "python",
   "pygments_lexer": "ipython3",
   "version": "3.7.1"
  }
 },
 "nbformat": 4,
 "nbformat_minor": 2
}
